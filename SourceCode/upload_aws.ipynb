{
 "cells": [
  {
   "cell_type": "code",
   "execution_count": 1,
   "metadata": {},
   "outputs": [
    {
     "name": "stdout",
     "output_type": "stream",
     "text": [
      "Microsoft Windows [Version 10.0.19045.3570]\n",
      "(c) Microsoft Corporation. All rights reserved.\n",
      "\n",
      "d:\\zDevlearn\\Notebook\\SocialNetwork\\AWS>aws configure set aws_region_name us-east-1\n",
      "\n",
      "d:\\zDevlearn\\Notebook\\SocialNetwork\\AWS>"
     ]
    }
   ],
   "source": [
    "%%cmd\n",
    "aws configure set aws_region_name us-east-1"
   ]
  },
  {
   "cell_type": "code",
   "execution_count": 2,
   "metadata": {},
   "outputs": [],
   "source": [
    "import boto3\n",
    "from botocore.exceptions import NoCredentialsError\n",
    "\n",
    "def upload_to_s3(file_name, bucket, object_name=None):\n",
    "    # Nếu object_name không được cung cấp, sử dụng file_name\n",
    "    if object_name is None:\n",
    "        object_name = file_name\n",
    "\n",
    "    # Khởi tạo client S3\n",
    "    s3_client = boto3.client('s3')\n",
    "\n",
    "    try:\n",
    "        # Tải file lên S3\n",
    "        s3_client.upload_file(file_name, bucket, object_name)\n",
    "        print(f\"Upload thành công {file_name} lên bucket {bucket} với tên {object_name}\")\n",
    "    except FileNotFoundError:\n",
    "        print(f\"File {file_name} không tồn tại.\")\n",
    "    except NoCredentialsError:\n",
    "        print(\"Credentials không hợp lệ.\")\n"
   ]
  },
  {
   "cell_type": "code",
   "execution_count": 3,
   "metadata": {},
   "outputs": [
    {
     "name": "stdout",
     "output_type": "stream",
     "text": [
      "Upload thành công twitter_data.csv lên bucket twitter-data-905418222357 với tên twitter_data_1.csv\n"
     ]
    }
   ],
   "source": [
    "# Đường dẫn file csv\n",
    "file_name = 'emr.py'\n",
    "# Tên bucket S3\n",
    "bucket = 'twitter-data-905418222357'\n",
    "# Tên object trong S3 (có thể giống tên file hoặc khác)\n",
    "object_name = 'emr.py'\n",
    "\n",
    "# Gọi hàm upload_to_s3\n",
    "upload_to_s3(file_name, bucket, object_name)"
   ]
  },
  {
   "cell_type": "code",
   "execution_count": 6,
   "metadata": {},
   "outputs": [
    {
     "name": "stdout",
     "output_type": "stream",
     "text": [
      "Upload thành công my-lambda-function.zip lên bucket twitter-data-905418222357 với tên my-lambda-function.zip\n"
     ]
    }
   ],
   "source": [
    "# Đường dẫn file csv\n",
    "file_name = 'my-lambda-function.zip'\n",
    "# Tên bucket S3\n",
    "bucket = 'twitter-data-905418222357'\n",
    "# Tên object trong S3 (có thể giống tên file hoặc khác)\n",
    "object_name = 'my-lambda-function.zip'\n",
    "\n",
    "# Gọi hàm upload_to_s3\n",
    "upload_to_s3(file_name, bucket, object_name)"
   ]
  },
  {
   "cell_type": "code",
   "execution_count": null,
   "metadata": {},
   "outputs": [],
   "source": []
  }
 ],
 "metadata": {
  "kernelspec": {
   "display_name": "Python 3",
   "language": "python",
   "name": "python3"
  },
  "language_info": {
   "codemirror_mode": {
    "name": "ipython",
    "version": 3
   },
   "file_extension": ".py",
   "mimetype": "text/x-python",
   "name": "python",
   "nbconvert_exporter": "python",
   "pygments_lexer": "ipython3",
   "version": "3.11.9"
  }
 },
 "nbformat": 4,
 "nbformat_minor": 2
}
